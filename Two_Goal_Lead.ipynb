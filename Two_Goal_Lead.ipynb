{
  "nbformat": 4,
  "nbformat_minor": 0,
  "metadata": {
    "colab": {
      "name": "Two_Goal_Lead.ipynb",
      "provenance": [],
      "collapsed_sections": [],
      "toc_visible": true,
      "authorship_tag": "ABX9TyOK3cZxvbf3FV3jIA3+nyrv",
      "include_colab_link": true
    },
    "kernelspec": {
      "name": "python3",
      "display_name": "Python 3"
    }
  },
  "cells": [
    {
      "cell_type": "markdown",
      "metadata": {
        "id": "view-in-github",
        "colab_type": "text"
      },
      "source": [
        "<a href=\"https://colab.research.google.com/github/loluna/for_fun/blob/master/Two_Goal_Lead.ipynb\" target=\"_parent\"><img src=\"https://colab.research.google.com/assets/colab-badge.svg\" alt=\"Open In Colab\"/></a>"
      ]
    },
    {
      "cell_type": "markdown",
      "metadata": {
        "id": "pnKWUIyXZLea",
        "colab_type": "text"
      },
      "source": [
        "#Is 2-0 really the most dangerous lead?"
      ]
    },
    {
      "cell_type": "markdown",
      "metadata": {
        "id": "RbGSpL8dd1us",
        "colab_type": "text"
      },
      "source": [
        "##Introduction\n",
        "\n",
        "Anyone who has spent time playing or watching football is likley to have heard some variation of the phrase \"2-0 is the most dangerous lead\". It's a cliche so common it even has a [wikipedia page.](https://en.wikipedia.org/wiki/2–0_lead_is_the_worst_lead)\n",
        "\n",
        "In the recently released [All or Nothing: Tottenham Hotspur](https://www.imdb.com/title/tt11188556/) documentary, Jose Mourinho, one of the sport's most decorated coaches, can be heard reiterating this statement (albeit in slightly different words). \n",
        "\n",
        "In this notebook we set out to fact check this notion. \n",
        "\n",
        "To do so we will use the [Football Events](https://www.kaggle.com/secareanualin/football-events) Kaggle dataset which contains match event data such as goals scored from roughly 9,000 games from Europe's top 5 leagues. \n",
        "\n",
        "In particular we will examine 3 possible interpretations. \n",
        "1.   A team with a 2-0 lead will ultimately lose or draw games more often than with other leads (we'll use 1-0 leads for comparison)\n",
        "2.   A team with a 2-0 lead is more likely to concede the next goal than with other leads. \n",
        "3.   When a team concedes after a 2-0 lead they do so faster than with other leads. \n"
      ]
    },
    {
      "cell_type": "code",
      "metadata": {
        "id": "b2f3Wkjcbay8",
        "colab_type": "code",
        "colab": {}
      },
      "source": [
        "import pandas as pd\n",
        "import numpy as np\n",
        "import matplotlib.pyplot as plt\n",
        "from google.colab import drive\n",
        "drive.mount('/content/drive')"
      ],
      "execution_count": 1,
      "outputs": []
    },
    {
      "cell_type": "code",
      "metadata": {
        "id": "WgiYyZTNbgYk",
        "colab_type": "code",
        "colab": {
          "base_uri": "https://localhost:8080/",
          "height": 122
        },
        "outputId": "2e471e7a-4890-4e31-9c95-936bdbc414a5"
      },
      "source": [
        "from google.colab import drive\n",
        "drive.mount('/content/drive')\n",
        "events = pd.read_csv(\"drive/My Drive/events.csv\")\n",
        "game_info = pd.read_csv(\"drive/My Drive/ginf.csv\")"
      ],
      "execution_count": 3,
      "outputs": [
        {
          "output_type": "stream",
          "text": [
            "Go to this URL in a browser: https://accounts.google.com/o/oauth2/auth?client_id=947318989803-6bn6qk8qdgf4n4g3pfee6491hc0brc4i.apps.googleusercontent.com&redirect_uri=urn%3aietf%3awg%3aoauth%3a2.0%3aoob&scope=email%20https%3a%2f%2fwww.googleapis.com%2fauth%2fdocs.test%20https%3a%2f%2fwww.googleapis.com%2fauth%2fdrive%20https%3a%2f%2fwww.googleapis.com%2fauth%2fdrive.photos.readonly%20https%3a%2f%2fwww.googleapis.com%2fauth%2fpeopleapi.readonly&response_type=code\n",
            "\n",
            "Enter your authorization code:\n",
            "··········\n",
            "Mounted at /content/drive\n"
          ],
          "name": "stdout"
        }
      ]
    },
    {
      "cell_type": "markdown",
      "metadata": {
        "id": "Io9gI6rIgdmb",
        "colab_type": "text"
      },
      "source": [
        "## Data manipulation \n",
        "This will cut out extra data and create some useful variables.\n",
        "\n",
        "Let's filter to only for events that correspond to goals. Then let's signify if the goal was a home or away goal. And finally let's convert that to a \"running score\". "
      ]
    },
    {
      "cell_type": "code",
      "metadata": {
        "id": "-JO1_Mh2lh3F",
        "colab_type": "code",
        "colab": {}
      },
      "source": [
        "goals = events.loc[events[\"is_goal\"] == 1, [\"id_odsp\", \"time\", \"side\"]]\n",
        "goals.loc[goals['side'] == 1, 'home_goals'] = 1\n",
        "goals.loc[goals['side'] == 2, 'away_goals'] = 1\n",
        "# Convert NaN to 0\n",
        "goals.loc[pd.isnull(goals['home_goals']), 'home_goals'] = 0\n",
        "goals.loc[pd.isnull(goals['away_goals']), 'away_goals'] = 0\n",
        "# Get running score\n",
        "goals[[\"home_goals\", \"away_goals\"]] = goals.groupby(\"id_odsp\")[[\"home_goals\", \"away_goals\"]].cumsum()"
      ],
      "execution_count": 84,
      "outputs": []
    },
    {
      "cell_type": "markdown",
      "metadata": {
        "id": "4H__KFGURtqn",
        "colab_type": "text"
      },
      "source": [
        "Next let's make a series of variables that show if:\n",
        "\n",
        "\n",
        "*   a row is an example of 1-0 or 2-0 lead\n",
        "*   there was a next goal and if so if it was home or away\n",
        "*   the next goal was a pullback goal - I don't think this is a real term but it's convenient shorthand for 1-0 > 1-1 or 2-0 > 2-1.\n",
        "*   the home or away team had the lead\n",
        "\n",
        "\n",
        "\n",
        "*Note: I'm consciously omitting other variations of 2 goal leads such as 3-1 or 4-2 because that's not the saying but also because these scorelines often occur later in a game so they represent a different dynamic.*\n"
      ]
    },
    {
      "cell_type": "code",
      "metadata": {
        "id": "FBjJmbQP8v-5",
        "colab_type": "code",
        "colab": {}
      },
      "source": [
        "# 2 indicators for what type of lead it is an example of (if either)\n",
        "goals.loc[(goals['home_goals'] == 1) & (goals['away_goals'] == 0) , 'one_example'] = 1\n",
        "goals.loc[(goals['home_goals'] == 0) & (goals['away_goals'] == 1) , 'one_example'] = 1\n",
        "goals.loc[(goals['home_goals'] == 2) & (goals['away_goals'] == 0) , 'two_example'] = 1\n",
        "goals.loc[(goals['home_goals'] == 0) & (goals['away_goals'] == 2) , 'two_example'] = 1\n",
        "# Get next goal scored\n",
        "goals[['home_goals_next', 'away_goals_next', \"time_next\"]] = goals.groupby('id_odsp')[[\"home_goals\", \"away_goals\", \"time\"]].shift(periods = -1)\n",
        "# Indicator for if the next goal scored was a pullback goal\n",
        "goals.loc[(goals['home_goals'] == 1) & (goals['away_goals'] == 0) & (goals['away_goals_next'] == 1), 'pullback'] = 1\n",
        "goals.loc[(goals['home_goals'] == 0) & (goals['away_goals'] == 1) & (goals['home_goals_next'] == 1), 'pullback'] = 1\n",
        "goals.loc[(goals['home_goals'] == 2) & (goals['away_goals'] == 0) & (goals['away_goals_next'] == 1), 'pullback'] = 1\n",
        "goals.loc[(goals['home_goals'] == 0) & (goals['away_goals'] == 2) & (goals['home_goals_next'] == 1), 'pullback'] = 1\n",
        "goals.loc[pd.isnull(goals['pullback']), 'pullback'] = 0\n",
        "# Indicator for who had the dangerous lead\n",
        "goals.loc[(goals['home_goals'] == 1) & (goals['away_goals'] == 0) , 'lead'] = 'home'\n",
        "goals.loc[(goals['home_goals'] == 0) & (goals['away_goals'] == 1) , 'lead'] = 'away'\n",
        "goals.loc[(goals['home_goals'] == 2) & (goals['away_goals'] == 0) , 'lead'] = 'home'\n",
        "goals.loc[(goals['home_goals'] == 0) & (goals['away_goals'] == 2) , 'lead'] = 'away'"
      ],
      "execution_count": 85,
      "outputs": []
    },
    {
      "cell_type": "markdown",
      "metadata": {
        "id": "zw_LKjy2TWUZ",
        "colab_type": "text"
      },
      "source": [
        "Next we filter down to only the games with either 1-0 or 2-0 leads and merge in game info. And finally we'll make a few more variables including \n",
        "\n",
        "\n",
        "*   time to next goal after lead\n",
        "*   home and away win indicators\n",
        "*   indicator for if the team with lead ultimately won\n",
        "\n",
        "*Note: A game can be an example of both types of leads eg. 1-0 and 2-0.* "
      ]
    },
    {
      "cell_type": "code",
      "metadata": {
        "id": "fPh3PhkQ_XSh",
        "colab_type": "code",
        "colab": {}
      },
      "source": [
        "# Filter to only games with dangerous lead\n",
        "relevant_goals = goals[(goals['one_example'] == 1) | (goals['two_example'] == 1)]\n",
        "rel_goals_game = relevant_goals.merge(game_info, how = \"left\", on = \"id_odsp\")\n",
        "# Time until next goal\n",
        "rel_goals_game[\"time_to_next\"] = rel_goals_game[\"time_next\"] - rel_goals_game[\"time\"]\n",
        "# Home and away win indicators\n",
        "rel_goals_game.loc[rel_goals_game[\"fthg\"] >  rel_goals_game[\"ftag\"], \"home_win\"] = 1\n",
        "rel_goals_game.loc[rel_goals_game[\"fthg\"] <=  rel_goals_game[\"ftag\"], \"home_win\"] = 0\n",
        "rel_goals_game.loc[rel_goals_game[\"fthg\"] < rel_goals_game[\"ftag\"], \"away_win\"] = 1\n",
        "rel_goals_game.loc[rel_goals_game[\"fthg\"] >= rel_goals_game[\"ftag\"], \"away_win\"] = 0\n",
        "# Leader win indicator\n",
        "rel_goals_game.loc[(rel_goals_game[\"lead\"] == \"home\") & (rel_goals_game[\"home_win\"] == 1), \"lead_win\"] = 1\n",
        "rel_goals_game.loc[(rel_goals_game[\"lead\"] == \"away\") & (rel_goals_game[\"away_win\"] == 1), \"lead_win\"] = 1\n",
        "rel_goals_game.loc[pd.isnull(rel_goals_game[\"lead_win\"]), \"lead_win\"] = 0"
      ],
      "execution_count": 86,
      "outputs": []
    },
    {
      "cell_type": "markdown",
      "metadata": {
        "id": "Y0-DxH97VzK2",
        "colab_type": "text"
      },
      "source": [
        "And that's all. Now we can see that we have 1 row per example of 2-0 and 1-0 leads. That row has details such who scored the next goal and who ultimatey won the game. \n",
        "## Analysis\n",
        "\n",
        "Now we can actually answer our questions. \n",
        "\n",
        "So, is 2-0 the most dangerous lead? As you might have guessed no, or at least this data strongly suggests 1-0 is a much more dangerous lead than 2-0. "
      ]
    },
    {
      "cell_type": "markdown",
      "metadata": {
        "id": "ZCTyfVpgajZB",
        "colab_type": "text"
      },
      "source": [
        "### Winning the game\n",
        "\n",
        "We can see that teams that took a 1-0 lead in this data set won 69% of the time while teams that took a 2-0 lead won 92% of the time. So 1-0 is a much more dangerous lead than 2-0. "
      ]
    },
    {
      "cell_type": "code",
      "metadata": {
        "id": "gbN0DitVvYpm",
        "colab_type": "code",
        "colab": {
          "base_uri": "https://localhost:8080/",
          "height": 51
        },
        "outputId": "fcf61bcc-8b89-4eb9-945d-6d7956c91f8f"
      },
      "source": [
        "one_win_rate = rel_goals_game.loc[rel_goals_game[\"one_example\"] == 1, \"lead_win\"].sum()/rel_goals_game.loc[rel_goals_game[\"one_example\"] == 1, \"lead_win\"].count()\n",
        "two_win_rate = rel_goals_game.loc[rel_goals_game[\"two_example\"] == 1, \"lead_win\"].sum()/rel_goals_game.loc[rel_goals_game[\"two_example\"] == 1, \"lead_win\"].count()\n",
        "print('After a 1-0 lead teams win {:2.0%} of games'.format(one_win_rate))\n",
        "print('After a 2-0 lead teams win {:2.0%} of games'.format(two_win_rate))"
      ],
      "execution_count": 87,
      "outputs": [
        {
          "output_type": "stream",
          "text": [
            "After a 1-0 lead teams win 69% of games\n",
            "After a 2-0 lead teams win 92% of games\n"
          ],
          "name": "stdout"
        }
      ]
    },
    {
      "cell_type": "markdown",
      "metadata": {
        "id": "iBJAO5hjXeRJ",
        "colab_type": "text"
      },
      "source": [
        "But what if the difference is more important under certain circumstances like say if the team with the lead is home or away. \n",
        "\n",
        "We can test this and we can see that while the home team is more likely to hold on to a lead, both home and away teams are more likely to hold on to 2-0 leads than 1-0 leads. For example away teams who take a 1-0 lead win about **61%** of games while away teams who take a 2-0 lead win just under **90%** of games. "
      ]
    },
    {
      "cell_type": "code",
      "metadata": {
        "id": "7LrdsemDFsx3",
        "colab_type": "code",
        "colab": {
          "base_uri": "https://localhost:8080/",
          "height": 267
        },
        "outputId": "cbc288ac-b7ae-4917-8cc6-d4801946fcd4"
      },
      "source": [
        "display(pd.crosstab(rel_goals_game.loc[rel_goals_game[\"one_example\"] == 1, \"lead\"], rel_goals_game.loc[rel_goals_game[\"one_example\"] == 1, \"lead_win\"], normalize = 'index'))\n",
        "display(pd.crosstab(rel_goals_game.loc[rel_goals_game[\"two_example\"] == 1, \"lead\"], rel_goals_game.loc[rel_goals_game[\"two_example\"] == 1, \"lead_win\"], normalize = 'index'))"
      ],
      "execution_count": 76,
      "outputs": [
        {
          "output_type": "display_data",
          "data": {
            "text/html": [
              "<div>\n",
              "<style scoped>\n",
              "    .dataframe tbody tr th:only-of-type {\n",
              "        vertical-align: middle;\n",
              "    }\n",
              "\n",
              "    .dataframe tbody tr th {\n",
              "        vertical-align: top;\n",
              "    }\n",
              "\n",
              "    .dataframe thead th {\n",
              "        text-align: right;\n",
              "    }\n",
              "</style>\n",
              "<table border=\"1\" class=\"dataframe\">\n",
              "  <thead>\n",
              "    <tr style=\"text-align: right;\">\n",
              "      <th>lead_win</th>\n",
              "      <th>0.0</th>\n",
              "      <th>1.0</th>\n",
              "    </tr>\n",
              "    <tr>\n",
              "      <th>lead</th>\n",
              "      <th></th>\n",
              "      <th></th>\n",
              "    </tr>\n",
              "  </thead>\n",
              "  <tbody>\n",
              "    <tr>\n",
              "      <th>away</th>\n",
              "      <td>0.381349</td>\n",
              "      <td>0.618651</td>\n",
              "    </tr>\n",
              "    <tr>\n",
              "      <th>home</th>\n",
              "      <td>0.257231</td>\n",
              "      <td>0.742769</td>\n",
              "    </tr>\n",
              "  </tbody>\n",
              "</table>\n",
              "</div>"
            ],
            "text/plain": [
              "lead_win       0.0       1.0\n",
              "lead                        \n",
              "away      0.381349  0.618651\n",
              "home      0.257231  0.742769"
            ]
          },
          "metadata": {
            "tags": []
          }
        },
        {
          "output_type": "display_data",
          "data": {
            "text/html": [
              "<div>\n",
              "<style scoped>\n",
              "    .dataframe tbody tr th:only-of-type {\n",
              "        vertical-align: middle;\n",
              "    }\n",
              "\n",
              "    .dataframe tbody tr th {\n",
              "        vertical-align: top;\n",
              "    }\n",
              "\n",
              "    .dataframe thead th {\n",
              "        text-align: right;\n",
              "    }\n",
              "</style>\n",
              "<table border=\"1\" class=\"dataframe\">\n",
              "  <thead>\n",
              "    <tr style=\"text-align: right;\">\n",
              "      <th>lead_win</th>\n",
              "      <th>0.0</th>\n",
              "      <th>1.0</th>\n",
              "    </tr>\n",
              "    <tr>\n",
              "      <th>lead</th>\n",
              "      <th></th>\n",
              "      <th></th>\n",
              "    </tr>\n",
              "  </thead>\n",
              "  <tbody>\n",
              "    <tr>\n",
              "      <th>away</th>\n",
              "      <td>0.103528</td>\n",
              "      <td>0.896472</td>\n",
              "    </tr>\n",
              "    <tr>\n",
              "      <th>home</th>\n",
              "      <td>0.060215</td>\n",
              "      <td>0.939785</td>\n",
              "    </tr>\n",
              "  </tbody>\n",
              "</table>\n",
              "</div>"
            ],
            "text/plain": [
              "lead_win       0.0       1.0\n",
              "lead                        \n",
              "away      0.103528  0.896472\n",
              "home      0.060215  0.939785"
            ]
          },
          "metadata": {
            "tags": []
          }
        }
      ]
    },
    {
      "cell_type": "markdown",
      "metadata": {
        "id": "IlZ3u90NYa1V",
        "colab_type": "text"
      },
      "source": [
        "Similarly if we consider differences between countries we can see that \n",
        "\n",
        "\n",
        "1.   Win percentages in both scenario are remarkbly consistent across countries\n",
        "2.   Win percentages is much higher at ~**90%** compared to ~**70%** in all countries\n",
        "\n"
      ]
    },
    {
      "cell_type": "code",
      "metadata": {
        "id": "msmQyK33JRWy",
        "colab_type": "code",
        "colab": {
          "base_uri": "https://localhost:8080/",
          "height": 453
        },
        "outputId": "cc673d72-d731-4c35-a97e-0d77036a0220"
      },
      "source": [
        "display(pd.crosstab(rel_goals_game.loc[rel_goals_game[\"one_example\"] == 1, \"country\"], rel_goals_game.loc[rel_goals_game[\"one_example\"] == 1, \"lead_win\"], normalize = 'index'))\n",
        "display(pd.crosstab(rel_goals_game.loc[rel_goals_game[\"two_example\"] == 1, \"country\"], rel_goals_game.loc[rel_goals_game[\"two_example\"] == 1, \"lead_win\"], normalize = 'index'))"
      ],
      "execution_count": 77,
      "outputs": [
        {
          "output_type": "display_data",
          "data": {
            "text/html": [
              "<div>\n",
              "<style scoped>\n",
              "    .dataframe tbody tr th:only-of-type {\n",
              "        vertical-align: middle;\n",
              "    }\n",
              "\n",
              "    .dataframe tbody tr th {\n",
              "        vertical-align: top;\n",
              "    }\n",
              "\n",
              "    .dataframe thead th {\n",
              "        text-align: right;\n",
              "    }\n",
              "</style>\n",
              "<table border=\"1\" class=\"dataframe\">\n",
              "  <thead>\n",
              "    <tr style=\"text-align: right;\">\n",
              "      <th>lead_win</th>\n",
              "      <th>0.0</th>\n",
              "      <th>1.0</th>\n",
              "    </tr>\n",
              "    <tr>\n",
              "      <th>country</th>\n",
              "      <th></th>\n",
              "      <th></th>\n",
              "    </tr>\n",
              "  </thead>\n",
              "  <tbody>\n",
              "    <tr>\n",
              "      <th>england</th>\n",
              "      <td>0.299252</td>\n",
              "      <td>0.700748</td>\n",
              "    </tr>\n",
              "    <tr>\n",
              "      <th>france</th>\n",
              "      <td>0.307165</td>\n",
              "      <td>0.692835</td>\n",
              "    </tr>\n",
              "    <tr>\n",
              "      <th>germany</th>\n",
              "      <td>0.326859</td>\n",
              "      <td>0.673141</td>\n",
              "    </tr>\n",
              "    <tr>\n",
              "      <th>italy</th>\n",
              "      <td>0.311450</td>\n",
              "      <td>0.688550</td>\n",
              "    </tr>\n",
              "    <tr>\n",
              "      <th>spain</th>\n",
              "      <td>0.300215</td>\n",
              "      <td>0.699785</td>\n",
              "    </tr>\n",
              "  </tbody>\n",
              "</table>\n",
              "</div>"
            ],
            "text/plain": [
              "lead_win       0.0       1.0\n",
              "country                     \n",
              "england   0.299252  0.700748\n",
              "france    0.307165  0.692835\n",
              "germany   0.326859  0.673141\n",
              "italy     0.311450  0.688550\n",
              "spain     0.300215  0.699785"
            ]
          },
          "metadata": {
            "tags": []
          }
        },
        {
          "output_type": "display_data",
          "data": {
            "text/html": [
              "<div>\n",
              "<style scoped>\n",
              "    .dataframe tbody tr th:only-of-type {\n",
              "        vertical-align: middle;\n",
              "    }\n",
              "\n",
              "    .dataframe tbody tr th {\n",
              "        vertical-align: top;\n",
              "    }\n",
              "\n",
              "    .dataframe thead th {\n",
              "        text-align: right;\n",
              "    }\n",
              "</style>\n",
              "<table border=\"1\" class=\"dataframe\">\n",
              "  <thead>\n",
              "    <tr style=\"text-align: right;\">\n",
              "      <th>lead_win</th>\n",
              "      <th>0.0</th>\n",
              "      <th>1.0</th>\n",
              "    </tr>\n",
              "    <tr>\n",
              "      <th>country</th>\n",
              "      <th></th>\n",
              "      <th></th>\n",
              "    </tr>\n",
              "  </thead>\n",
              "  <tbody>\n",
              "    <tr>\n",
              "      <th>england</th>\n",
              "      <td>0.091589</td>\n",
              "      <td>0.908411</td>\n",
              "    </tr>\n",
              "    <tr>\n",
              "      <th>france</th>\n",
              "      <td>0.071608</td>\n",
              "      <td>0.928392</td>\n",
              "    </tr>\n",
              "    <tr>\n",
              "      <th>germany</th>\n",
              "      <td>0.081081</td>\n",
              "      <td>0.918919</td>\n",
              "    </tr>\n",
              "    <tr>\n",
              "      <th>italy</th>\n",
              "      <td>0.073983</td>\n",
              "      <td>0.926017</td>\n",
              "    </tr>\n",
              "    <tr>\n",
              "      <th>spain</th>\n",
              "      <td>0.066991</td>\n",
              "      <td>0.933009</td>\n",
              "    </tr>\n",
              "  </tbody>\n",
              "</table>\n",
              "</div>"
            ],
            "text/plain": [
              "lead_win       0.0       1.0\n",
              "country                     \n",
              "england   0.091589  0.908411\n",
              "france    0.071608  0.928392\n",
              "germany   0.081081  0.918919\n",
              "italy     0.073983  0.926017\n",
              "spain     0.066991  0.933009"
            ]
          },
          "metadata": {
            "tags": []
          }
        }
      ]
    },
    {
      "cell_type": "markdown",
      "metadata": {
        "id": "J4l87TM3aeXT",
        "colab_type": "text"
      },
      "source": [
        "### Conceding the next goal\n",
        "\n",
        "Okay so things aren't looking good for the \"2-0 is the most dangerous lead\" crowd. But what if we consider not who ultimately wins the game but who scores the next goal. \n",
        "\n",
        "Unfortunately things still don't look great. In roughly **38%** of games the team leading 1-0 concedes the next goal while only **29%** of teams with a 2-0 lead concede the next goal. \n",
        "\n",
        "*Note that what I calculated here is sum(other team scores next)/sum(total games with lead) so games where there was no next goal are included in the denominator.*"
      ]
    },
    {
      "cell_type": "code",
      "metadata": {
        "id": "_ViqJyHMJhR9",
        "colab_type": "code",
        "colab": {
          "base_uri": "https://localhost:8080/",
          "height": 34
        },
        "outputId": "373cb7b4-8aa6-4ae5-f345-1260b5dcc0af"
      },
      "source": [
        "one_pullback_rate = rel_goals_game.loc[rel_goals_game[\"one_example\"] == 1, \"pullback\"].sum()/rel_goals_game.loc[rel_goals_game[\"one_example\"] == 1, \"one_example\"].sum()\n",
        "two_pullback_rate = rel_goals_game.loc[rel_goals_game[\"two_example\"] == 1, \"pullback\"].sum()/rel_goals_game.loc[rel_goals_game[\"two_example\"] == 1, \"two_example\"].sum()\n",
        "print('One goal lead: {:2.1%} vs. Two goal lead: {:2.1%}'.format(one_pullback_rate, two_pullback_rate))"
      ],
      "execution_count": 17,
      "outputs": [
        {
          "output_type": "stream",
          "text": [
            "One goal lead: 37.73% vs. Two goal lead: 28.93%\n"
          ],
          "name": "stdout"
        }
      ]
    },
    {
      "cell_type": "markdown",
      "metadata": {
        "id": "cd8BOe1cd2u7",
        "colab_type": "text"
      },
      "source": [
        "Next if we do home and away comparisons we'll notice similar trends to what we saw previously. Namely, conceding the next goal is much more likely with a 1-0 lead (top chart) than a 2-0 lead (bottom chart) and that if the team with the lead is the home team they are less likely to concede the next goal than if they had that lead away. "
      ]
    },
    {
      "cell_type": "code",
      "metadata": {
        "id": "E5Itue8aMMvK",
        "colab_type": "code",
        "colab": {
          "base_uri": "https://localhost:8080/",
          "height": 267
        },
        "outputId": "70e5af61-479c-478a-9280-7ee136cb7ed9"
      },
      "source": [
        "display(pd.crosstab(rel_goals_game.loc[rel_goals_game[\"one_example\"] == 1, \"lead\"], rel_goals_game.loc[rel_goals_game[\"one_example\"] == 1, \"pullback\"], normalize = 'index'))\n",
        "display(pd.crosstab(rel_goals_game.loc[rel_goals_game[\"two_example\"] == 1, \"lead\"], rel_goals_game.loc[rel_goals_game[\"two_example\"] == 1, \"pullback\"], normalize = 'index'))"
      ],
      "execution_count": 78,
      "outputs": [
        {
          "output_type": "display_data",
          "data": {
            "text/html": [
              "<div>\n",
              "<style scoped>\n",
              "    .dataframe tbody tr th:only-of-type {\n",
              "        vertical-align: middle;\n",
              "    }\n",
              "\n",
              "    .dataframe tbody tr th {\n",
              "        vertical-align: top;\n",
              "    }\n",
              "\n",
              "    .dataframe thead th {\n",
              "        text-align: right;\n",
              "    }\n",
              "</style>\n",
              "<table border=\"1\" class=\"dataframe\">\n",
              "  <thead>\n",
              "    <tr style=\"text-align: right;\">\n",
              "      <th>pullback</th>\n",
              "      <th>0.0</th>\n",
              "      <th>1.0</th>\n",
              "    </tr>\n",
              "    <tr>\n",
              "      <th>lead</th>\n",
              "      <th></th>\n",
              "      <th></th>\n",
              "    </tr>\n",
              "  </thead>\n",
              "  <tbody>\n",
              "    <tr>\n",
              "      <th>away</th>\n",
              "      <td>0.562123</td>\n",
              "      <td>0.437877</td>\n",
              "    </tr>\n",
              "    <tr>\n",
              "      <th>home</th>\n",
              "      <td>0.666051</td>\n",
              "      <td>0.333949</td>\n",
              "    </tr>\n",
              "  </tbody>\n",
              "</table>\n",
              "</div>"
            ],
            "text/plain": [
              "pullback       0.0       1.0\n",
              "lead                        \n",
              "away      0.562123  0.437877\n",
              "home      0.666051  0.333949"
            ]
          },
          "metadata": {
            "tags": []
          }
        },
        {
          "output_type": "display_data",
          "data": {
            "text/html": [
              "<div>\n",
              "<style scoped>\n",
              "    .dataframe tbody tr th:only-of-type {\n",
              "        vertical-align: middle;\n",
              "    }\n",
              "\n",
              "    .dataframe tbody tr th {\n",
              "        vertical-align: top;\n",
              "    }\n",
              "\n",
              "    .dataframe thead th {\n",
              "        text-align: right;\n",
              "    }\n",
              "</style>\n",
              "<table border=\"1\" class=\"dataframe\">\n",
              "  <thead>\n",
              "    <tr style=\"text-align: right;\">\n",
              "      <th>pullback</th>\n",
              "      <th>0.0</th>\n",
              "      <th>1.0</th>\n",
              "    </tr>\n",
              "    <tr>\n",
              "      <th>lead</th>\n",
              "      <th></th>\n",
              "      <th></th>\n",
              "    </tr>\n",
              "  </thead>\n",
              "  <tbody>\n",
              "    <tr>\n",
              "      <th>away</th>\n",
              "      <td>0.664110</td>\n",
              "      <td>0.335890</td>\n",
              "    </tr>\n",
              "    <tr>\n",
              "      <th>home</th>\n",
              "      <td>0.736774</td>\n",
              "      <td>0.263226</td>\n",
              "    </tr>\n",
              "  </tbody>\n",
              "</table>\n",
              "</div>"
            ],
            "text/plain": [
              "pullback       0.0       1.0\n",
              "lead                        \n",
              "away      0.664110  0.335890\n",
              "home      0.736774  0.263226"
            ]
          },
          "metadata": {
            "tags": []
          }
        }
      ]
    },
    {
      "cell_type": "markdown",
      "metadata": {
        "id": "NN16D9wifWK4",
        "colab_type": "text"
      },
      "source": [
        "And similarly if we break it out by country there's a bit more variation between countries this time but the same takeaway is true. Conceding the next goal is more likely with a 1-0 lead (top chart) than a 2-0 lead (bottom chart) across countries. "
      ]
    },
    {
      "cell_type": "code",
      "metadata": {
        "id": "_eIGqijAMZjW",
        "colab_type": "code",
        "colab": {
          "base_uri": "https://localhost:8080/",
          "height": 453
        },
        "outputId": "6fe196ca-1299-495d-df9e-1a5cdf40c63a"
      },
      "source": [
        "display(pd.crosstab(rel_goals_game.loc[rel_goals_game[\"one_example\"] == 1, \"country\"], rel_goals_game.loc[rel_goals_game[\"one_example\"] == 1, \"pullback\"], normalize = 'index'))\n",
        "display(pd.crosstab(rel_goals_game.loc[rel_goals_game[\"two_example\"] == 1, \"country\"], rel_goals_game.loc[rel_goals_game[\"two_example\"] == 1, \"pullback\"], normalize = 'index'))"
      ],
      "execution_count": 79,
      "outputs": [
        {
          "output_type": "display_data",
          "data": {
            "text/html": [
              "<div>\n",
              "<style scoped>\n",
              "    .dataframe tbody tr th:only-of-type {\n",
              "        vertical-align: middle;\n",
              "    }\n",
              "\n",
              "    .dataframe tbody tr th {\n",
              "        vertical-align: top;\n",
              "    }\n",
              "\n",
              "    .dataframe thead th {\n",
              "        text-align: right;\n",
              "    }\n",
              "</style>\n",
              "<table border=\"1\" class=\"dataframe\">\n",
              "  <thead>\n",
              "    <tr style=\"text-align: right;\">\n",
              "      <th>pullback</th>\n",
              "      <th>0.0</th>\n",
              "      <th>1.0</th>\n",
              "    </tr>\n",
              "    <tr>\n",
              "      <th>country</th>\n",
              "      <th></th>\n",
              "      <th></th>\n",
              "    </tr>\n",
              "  </thead>\n",
              "  <tbody>\n",
              "    <tr>\n",
              "      <th>england</th>\n",
              "      <td>0.643392</td>\n",
              "      <td>0.356608</td>\n",
              "    </tr>\n",
              "    <tr>\n",
              "      <th>france</th>\n",
              "      <td>0.631191</td>\n",
              "      <td>0.368809</td>\n",
              "    </tr>\n",
              "    <tr>\n",
              "      <th>germany</th>\n",
              "      <td>0.594776</td>\n",
              "      <td>0.405224</td>\n",
              "    </tr>\n",
              "    <tr>\n",
              "      <th>italy</th>\n",
              "      <td>0.615021</td>\n",
              "      <td>0.384979</td>\n",
              "    </tr>\n",
              "    <tr>\n",
              "      <th>spain</th>\n",
              "      <td>0.631042</td>\n",
              "      <td>0.368958</td>\n",
              "    </tr>\n",
              "  </tbody>\n",
              "</table>\n",
              "</div>"
            ],
            "text/plain": [
              "pullback       0.0       1.0\n",
              "country                     \n",
              "england   0.643392  0.356608\n",
              "france    0.631191  0.368809\n",
              "germany   0.594776  0.405224\n",
              "italy     0.615021  0.384979\n",
              "spain     0.631042  0.368958"
            ]
          },
          "metadata": {
            "tags": []
          }
        },
        {
          "output_type": "display_data",
          "data": {
            "text/html": [
              "<div>\n",
              "<style scoped>\n",
              "    .dataframe tbody tr th:only-of-type {\n",
              "        vertical-align: middle;\n",
              "    }\n",
              "\n",
              "    .dataframe tbody tr th {\n",
              "        vertical-align: top;\n",
              "    }\n",
              "\n",
              "    .dataframe thead th {\n",
              "        text-align: right;\n",
              "    }\n",
              "</style>\n",
              "<table border=\"1\" class=\"dataframe\">\n",
              "  <thead>\n",
              "    <tr style=\"text-align: right;\">\n",
              "      <th>pullback</th>\n",
              "      <th>0.0</th>\n",
              "      <th>1.0</th>\n",
              "    </tr>\n",
              "    <tr>\n",
              "      <th>country</th>\n",
              "      <th></th>\n",
              "      <th></th>\n",
              "    </tr>\n",
              "  </thead>\n",
              "  <tbody>\n",
              "    <tr>\n",
              "      <th>england</th>\n",
              "      <td>0.714019</td>\n",
              "      <td>0.285981</td>\n",
              "    </tr>\n",
              "    <tr>\n",
              "      <th>france</th>\n",
              "      <td>0.695980</td>\n",
              "      <td>0.304020</td>\n",
              "    </tr>\n",
              "    <tr>\n",
              "      <th>germany</th>\n",
              "      <td>0.708709</td>\n",
              "      <td>0.291291</td>\n",
              "    </tr>\n",
              "    <tr>\n",
              "      <th>italy</th>\n",
              "      <td>0.713933</td>\n",
              "      <td>0.286067</td>\n",
              "    </tr>\n",
              "    <tr>\n",
              "      <th>spain</th>\n",
              "      <td>0.721072</td>\n",
              "      <td>0.278928</td>\n",
              "    </tr>\n",
              "  </tbody>\n",
              "</table>\n",
              "</div>"
            ],
            "text/plain": [
              "pullback       0.0       1.0\n",
              "country                     \n",
              "england   0.714019  0.285981\n",
              "france    0.695980  0.304020\n",
              "germany   0.708709  0.291291\n",
              "italy     0.713933  0.286067\n",
              "spain     0.721072  0.278928"
            ]
          },
          "metadata": {
            "tags": []
          }
        }
      ]
    },
    {
      "cell_type": "markdown",
      "metadata": {
        "id": "vg7y5RS9gzFC",
        "colab_type": "text"
      },
      "source": [
        "###Time to concede a pullback goal\n",
        "So things are looking pretty bleak for this notion at this point. But let's check one more thing to try to save face for this idea. \n",
        "\n",
        "What we'll do here is consider only the games where we know pullback goal occured and compare the distribution of time to that goal since the previous goal. \n",
        "\n",
        "Conditional on conceding the next goal, less time to concede that goal could be a plausible (although silly IMO) interpretation of \"most dangerous lead\". What we see is exactly that, notice the orange bars higher toward the quicker times. Further the mean time to the pullback goal is about 24 minutes for 1-0 leads and about 19 minutes for 2-0. \n",
        "\n",
        "That said, this is not exactly unexpected. 2-0 leads tend to occur later in the game than 1-0 leads so there just is less time for a potential follow up goal to happen in the average 2-0 game than the average 1-0 game. "
      ]
    },
    {
      "cell_type": "code",
      "metadata": {
        "id": "lIJrXFv4lCo1",
        "colab_type": "code",
        "colab": {
          "base_uri": "https://localhost:8080/",
          "height": 371
        },
        "outputId": "d1363fbf-166e-4e96-b036-b6c01a74f956"
      },
      "source": [
        "temp_one = np.array(rel_goals_game.loc[(rel_goals_game[\"one_example\"] == 1) & (rel_goals_game[\"pullback\"] == 1) , [\"time_to_next\"]])\n",
        "temp_two = np.array(rel_goals_game.loc[(rel_goals_game[\"two_example\"] == 1) & (rel_goals_game[\"pullback\"] == 1), [\"time_to_next\"]])\n",
        "plt.hist([temp_one, temp_two], density = True)"
      ],
      "execution_count": 101,
      "outputs": [
        {
          "output_type": "execute_result",
          "data": {
            "text/plain": [
              "(array([[0.0225773 , 0.02560851, 0.0176298 , 0.01533026, 0.01073118,\n",
              "         0.00689862, 0.00533075, 0.00320542, 0.00195112, 0.00062715],\n",
              "        [0.03338566, 0.0281528 , 0.01936159, 0.01245421, 0.00774464,\n",
              "         0.00533752, 0.0029304 , 0.00052329, 0.        , 0.        ]]),\n",
              " array([-2. ,  7.1, 16.2, 25.3, 34.4, 43.5, 52.6, 61.7, 70.8, 79.9, 89. ]),\n",
              " <a list of 2 Lists of Patches objects>)"
            ]
          },
          "metadata": {
            "tags": []
          },
          "execution_count": 101
        },
        {
          "output_type": "display_data",
          "data": {
            "image/png": "[encoded data removed]",
            "text/plain": [
              "<Figure size 432x288 with 1 Axes>"
            ]
          },
          "metadata": {
            "tags": [],
            "needs_background": "light"
          }
        }
      ]
    },
    {
      "cell_type": "code",
      "metadata": {
        "id": "T--6ZxRx5G8m",
        "colab_type": "code",
        "colab": {
          "base_uri": "https://localhost:8080/",
          "height": 71
        },
        "outputId": "ce361567-fde7-4b27-82f5-0a6f4b4b1237"
      },
      "source": [
        "mean1 = rel_goals_game.loc[rel_goals_game[\"one_example\"] == 1, [\"time_to_next\"]].mean()[0]\n",
        "mean2 = rel_goals_game.loc[rel_goals_game[\"two_example\"] == 1, [\"time_to_next\"]].mean()[0]\n",
        "sd1 = rel_goals_game.loc[rel_goals_game[\"one_example\"] == 1, [\"time_to_next\"]].std()[0]\n",
        "sd2 = rel_goals_game.loc[rel_goals_game[\"two_example\"] == 1, [\"time_to_next\"]].std()[0]\n",
        "print('When teams concede the next goal with a 1-0 lead they do so on average after {:.2f} minutes with standard deviation of {:.2f}'.format(mean1, sd1))\n",
        "print('When teams concede the next goal with a 2-0 lead they do so on average after {:.2f} minutes with standard deviation of {:.2f}'.format(mean2, sd2))"
      ],
      "execution_count": 49,
      "outputs": [
        {
          "output_type": "stream",
          "text": [
            "When teams concede the next goal with a 1-0 lead they do so on average after 23.99 minutes with standard deviation of 18.41\n",
            "When teams concede the next goal with a 2-0 lead they do so on average after 18.75 minutes with standard deviation of 14.74\n"
          ],
          "name": "stdout"
        }
      ]
    },
    {
      "cell_type": "markdown",
      "metadata": {
        "id": "XxNkO4aRV_nK",
        "colab_type": "text"
      },
      "source": [
        "## Conclusion\n",
        "So despite the weak evidence from the time to concede analysis, I think we can safely say 2-0 is not the most dangerous lead. Overwhelmingly teams with 2-0 leads win more often and concede the next goal less often than teams with 1-0 leads. And we haven't even mentioned the well known [truly most dangerous 3-0 lead.](https://en.wikipedia.org/wiki/2018%E2%80%9319_UEFA_Champions_League#Semi-finals)  "
      ]
    }
  ]
}